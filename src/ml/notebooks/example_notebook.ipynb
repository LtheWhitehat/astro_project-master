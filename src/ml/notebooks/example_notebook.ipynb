{
 "cells": [
  {
   "cell_type": "markdown",
   "metadata": {},
   "source": [
    "# Notebook example"
   ]
  },
  {
   "cell_type": "markdown",
   "metadata": {},
   "source": [
    "Installing some necessary packages:"
   ]
  },
  {
   "cell_type": "code",
   "execution_count": 498,
   "metadata": {},
   "outputs": [
    {
     "name": "stdout",
     "output_type": "stream",
     "text": [
      "Requirement already satisfied: ipywidgets in d:\\levi\\projetos\\astro_project\\astro_project_env\\lib\\site-packages (7.6.5)\n",
      "Requirement already satisfied: traitlets>=4.3.1 in d:\\levi\\projetos\\astro_project\\astro_project_env\\lib\\site-packages (from ipywidgets) (5.1.0)\n",
      "Requirement already satisfied: ipykernel>=4.5.1 in d:\\levi\\projetos\\astro_project\\astro_project_env\\lib\\site-packages (from ipywidgets) (6.4.1)\n",
      "Requirement already satisfied: nbformat>=4.2.0 in d:\\levi\\projetos\\astro_project\\astro_project_env\\lib\\site-packages (from ipywidgets) (5.1.3)\n",
      "Requirement already satisfied: ipython>=4.0.0; python_version >= \"3.3\" in d:\\levi\\projetos\\astro_project\\astro_project_env\\lib\\site-packages (from ipywidgets) (7.27.0)\n",
      "Requirement already satisfied: jupyterlab-widgets>=1.0.0; python_version >= \"3.6\" in d:\\levi\\projetos\\astro_project\\astro_project_env\\lib\\site-packages (from ipywidgets) (1.0.2)\n",
      "Requirement already satisfied: widgetsnbextension~=3.5.0 in d:\\levi\\projetos\\astro_project\\astro_project_env\\lib\\site-packages (from ipywidgets) (3.5.1)\n",
      "Requirement already satisfied: ipython-genutils~=0.2.0 in d:\\levi\\projetos\\astro_project\\astro_project_env\\lib\\site-packages (from ipywidgets) (0.2.0)\n",
      "Requirement already satisfied: jupyter-client<8.0 in d:\\levi\\projetos\\astro_project\\astro_project_env\\lib\\site-packages (from ipykernel>=4.5.1->ipywidgets) (7.0.3)\n",
      "Requirement already satisfied: debugpy<2.0,>=1.0.0 in d:\\levi\\projetos\\astro_project\\astro_project_env\\lib\\site-packages (from ipykernel>=4.5.1->ipywidgets) (1.4.3)\n",
      "Requirement already satisfied: tornado<7.0,>=4.2 in d:\\levi\\projetos\\astro_project\\astro_project_env\\lib\\site-packages (from ipykernel>=4.5.1->ipywidgets) (6.1)\n",
      "Requirement already satisfied: matplotlib-inline<0.2.0,>=0.1.0 in d:\\levi\\projetos\\astro_project\\astro_project_env\\lib\\site-packages (from ipykernel>=4.5.1->ipywidgets) (0.1.3)\n",
      "Requirement already satisfied: jupyter-core in d:\\levi\\projetos\\astro_project\\astro_project_env\\lib\\site-packages (from nbformat>=4.2.0->ipywidgets) (4.8.1)\n",
      "Requirement already satisfied: jsonschema!=2.5.0,>=2.4 in d:\\levi\\projetos\\astro_project\\astro_project_env\\lib\\site-packages (from nbformat>=4.2.0->ipywidgets) (3.2.0)\n",
      "Requirement already satisfied: decorator in d:\\levi\\projetos\\astro_project\\astro_project_env\\lib\\site-packages (from ipython>=4.0.0; python_version >= \"3.3\"->ipywidgets) (5.1.0)\n",
      "Requirement already satisfied: setuptools>=18.5 in d:\\levi\\projetos\\astro_project\\astro_project_env\\lib\\site-packages (from ipython>=4.0.0; python_version >= \"3.3\"->ipywidgets) (49.2.1)\n",
      "Requirement already satisfied: pickleshare in d:\\levi\\projetos\\astro_project\\astro_project_env\\lib\\site-packages (from ipython>=4.0.0; python_version >= \"3.3\"->ipywidgets) (0.7.5)\n",
      "Requirement already satisfied: pygments in d:\\levi\\projetos\\astro_project\\astro_project_env\\lib\\site-packages (from ipython>=4.0.0; python_version >= \"3.3\"->ipywidgets) (2.10.0)\n",
      "Requirement already satisfied: backcall in d:\\levi\\projetos\\astro_project\\astro_project_env\\lib\\site-packages (from ipython>=4.0.0; python_version >= \"3.3\"->ipywidgets) (0.2.0)\n",
      "Requirement already satisfied: prompt-toolkit!=3.0.0,!=3.0.1,<3.1.0,>=2.0.0 in d:\\levi\\projetos\\astro_project\\astro_project_env\\lib\\site-packages (from ipython>=4.0.0; python_version >= \"3.3\"->ipywidgets) (3.0.20)\n",
      "Requirement already satisfied: jedi>=0.16 in d:\\levi\\projetos\\astro_project\\astro_project_env\\lib\\site-packages (from ipython>=4.0.0; python_version >= \"3.3\"->ipywidgets) (0.18.0)\n",
      "Requirement already satisfied: colorama; sys_platform == \"win32\" in d:\\levi\\projetos\\astro_project\\astro_project_env\\lib\\site-packages (from ipython>=4.0.0; python_version >= \"3.3\"->ipywidgets) (0.4.4)\n",
      "Requirement already satisfied: notebook>=4.4.1 in d:\\levi\\projetos\\astro_project\\astro_project_env\\lib\\site-packages (from widgetsnbextension~=3.5.0->ipywidgets) (6.4.4)\n",
      "Requirement already satisfied: pyzmq>=13 in d:\\levi\\projetos\\astro_project\\astro_project_env\\lib\\site-packages (from jupyter-client<8.0->ipykernel>=4.5.1->ipywidgets) (22.3.0)\n",
      "Requirement already satisfied: entrypoints in d:\\levi\\projetos\\astro_project\\astro_project_env\\lib\\site-packages (from jupyter-client<8.0->ipykernel>=4.5.1->ipywidgets) (0.3)\n",
      "Requirement already satisfied: python-dateutil>=2.1 in d:\\levi\\projetos\\astro_project\\astro_project_env\\lib\\site-packages (from jupyter-client<8.0->ipykernel>=4.5.1->ipywidgets) (2.8.2)\n",
      "Requirement already satisfied: nest-asyncio>=1.5 in d:\\levi\\projetos\\astro_project\\astro_project_env\\lib\\site-packages (from jupyter-client<8.0->ipykernel>=4.5.1->ipywidgets) (1.5.1)\n",
      "Requirement already satisfied: pywin32>=1.0; sys_platform == \"win32\" and platform_python_implementation != \"PyPy\" in d:\\levi\\projetos\\astro_project\\astro_project_env\\lib\\site-packages (from jupyter-core->nbformat>=4.2.0->ipywidgets) (227)\n",
      "Requirement already satisfied: six>=1.11.0 in d:\\levi\\projetos\\astro_project\\astro_project_env\\lib\\site-packages (from jsonschema!=2.5.0,>=2.4->nbformat>=4.2.0->ipywidgets) (1.16.0)\n",
      "Requirement already satisfied: pyrsistent>=0.14.0 in d:\\levi\\projetos\\astro_project\\astro_project_env\\lib\\site-packages (from jsonschema!=2.5.0,>=2.4->nbformat>=4.2.0->ipywidgets) (0.18.0)\n",
      "Requirement already satisfied: attrs>=17.4.0 in d:\\levi\\projetos\\astro_project\\astro_project_env\\lib\\site-packages (from jsonschema!=2.5.0,>=2.4->nbformat>=4.2.0->ipywidgets) (21.2.0)\n",
      "Requirement already satisfied: wcwidth in d:\\levi\\projetos\\astro_project\\astro_project_env\\lib\\site-packages (from prompt-toolkit!=3.0.0,!=3.0.1,<3.1.0,>=2.0.0->ipython>=4.0.0; python_version >= \"3.3\"->ipywidgets) (0.2.5)\n",
      "Requirement already satisfied: parso<0.9.0,>=0.8.0 in d:\\levi\\projetos\\astro_project\\astro_project_env\\lib\\site-packages (from jedi>=0.16->ipython>=4.0.0; python_version >= \"3.3\"->ipywidgets) (0.8.2)\n",
      "Requirement already satisfied: jinja2 in d:\\levi\\projetos\\astro_project\\astro_project_env\\lib\\site-packages (from notebook>=4.4.1->widgetsnbextension~=3.5.0->ipywidgets) (3.0.1)\n",
      "Requirement already satisfied: Send2Trash>=1.5.0 in d:\\levi\\projetos\\astro_project\\astro_project_env\\lib\\site-packages (from notebook>=4.4.1->widgetsnbextension~=3.5.0->ipywidgets) (1.8.0)\n",
      "Requirement already satisfied: terminado>=0.8.3 in d:\\levi\\projetos\\astro_project\\astro_project_env\\lib\\site-packages (from notebook>=4.4.1->widgetsnbextension~=3.5.0->ipywidgets) (0.12.1)\n",
      "Requirement already satisfied: nbconvert in d:\\levi\\projetos\\astro_project\\astro_project_env\\lib\\site-packages (from notebook>=4.4.1->widgetsnbextension~=3.5.0->ipywidgets) (6.1.0)\n",
      "Requirement already satisfied: argon2-cffi in d:\\levi\\projetos\\astro_project\\astro_project_env\\lib\\site-packages (from notebook>=4.4.1->widgetsnbextension~=3.5.0->ipywidgets) (21.1.0)\n",
      "Requirement already satisfied: prometheus-client in d:\\levi\\projetos\\astro_project\\astro_project_env\\lib\\site-packages (from notebook>=4.4.1->widgetsnbextension~=3.5.0->ipywidgets) (0.11.0)\n",
      "Requirement already satisfied: MarkupSafe>=2.0 in d:\\levi\\projetos\\astro_project\\astro_project_env\\lib\\site-packages (from jinja2->notebook>=4.4.1->widgetsnbextension~=3.5.0->ipywidgets) (2.0.1)\n",
      "Requirement already satisfied: pywinpty>=1.1.0; os_name == \"nt\" in d:\\levi\\projetos\\astro_project\\astro_project_env\\lib\\site-packages (from terminado>=0.8.3->notebook>=4.4.1->widgetsnbextension~=3.5.0->ipywidgets) (1.1.4)\n",
      "Requirement already satisfied: pandocfilters>=1.4.1 in d:\\levi\\projetos\\astro_project\\astro_project_env\\lib\\site-packages (from nbconvert->notebook>=4.4.1->widgetsnbextension~=3.5.0->ipywidgets) (1.5.0)\n",
      "Requirement already satisfied: bleach in d:\\levi\\projetos\\astro_project\\astro_project_env\\lib\\site-packages (from nbconvert->notebook>=4.4.1->widgetsnbextension~=3.5.0->ipywidgets) (4.1.0)\n",
      "Requirement already satisfied: nbclient<0.6.0,>=0.5.0 in d:\\levi\\projetos\\astro_project\\astro_project_env\\lib\\site-packages (from nbconvert->notebook>=4.4.1->widgetsnbextension~=3.5.0->ipywidgets) (0.5.4)\n",
      "Requirement already satisfied: defusedxml in d:\\levi\\projetos\\astro_project\\astro_project_env\\lib\\site-packages (from nbconvert->notebook>=4.4.1->widgetsnbextension~=3.5.0->ipywidgets) (0.7.1)\n",
      "Requirement already satisfied: testpath in d:\\levi\\projetos\\astro_project\\astro_project_env\\lib\\site-packages (from nbconvert->notebook>=4.4.1->widgetsnbextension~=3.5.0->ipywidgets) (0.5.0)\n",
      "Requirement already satisfied: mistune<2,>=0.8.1 in d:\\levi\\projetos\\astro_project\\astro_project_env\\lib\\site-packages (from nbconvert->notebook>=4.4.1->widgetsnbextension~=3.5.0->ipywidgets) (0.8.4)\n",
      "Requirement already satisfied: jupyterlab-pygments in d:\\levi\\projetos\\astro_project\\astro_project_env\\lib\\site-packages (from nbconvert->notebook>=4.4.1->widgetsnbextension~=3.5.0->ipywidgets) (0.1.2)\n",
      "Requirement already satisfied: cffi>=1.0.0 in d:\\levi\\projetos\\astro_project\\astro_project_env\\lib\\site-packages (from argon2-cffi->notebook>=4.4.1->widgetsnbextension~=3.5.0->ipywidgets) (1.14.6)\n",
      "Requirement already satisfied: webencodings in d:\\levi\\projetos\\astro_project\\astro_project_env\\lib\\site-packages (from bleach->nbconvert->notebook>=4.4.1->widgetsnbextension~=3.5.0->ipywidgets) (0.5.1)\n",
      "Requirement already satisfied: packaging in d:\\levi\\projetos\\astro_project\\astro_project_env\\lib\\site-packages (from bleach->nbconvert->notebook>=4.4.1->widgetsnbextension~=3.5.0->ipywidgets) (21.0)\n",
      "Requirement already satisfied: pycparser in d:\\levi\\projetos\\astro_project\\astro_project_env\\lib\\site-packages (from cffi>=1.0.0->argon2-cffi->notebook>=4.4.1->widgetsnbextension~=3.5.0->ipywidgets) (2.20)\n",
      "Requirement already satisfied: pyparsing>=2.0.2 in d:\\levi\\projetos\\astro_project\\astro_project_env\\lib\\site-packages (from packaging->bleach->nbconvert->notebook>=4.4.1->widgetsnbextension~=3.5.0->ipywidgets) (2.4.7)\n"
     ]
    },
    {
     "name": "stderr",
     "output_type": "stream",
     "text": [
      "WARNING: You are using pip version 20.2.3; however, version 21.2.4 is available.\n",
      "You should consider upgrading via the 'd:\\levi\\projetos\\astro_project\\astro_project_env\\scripts\\python.exe -m pip install --upgrade pip' command.\n",
      "Enabling notebook extension jupyter-js-widgets/extension...\n",
      "      - Validating: ok\n",
      "usage: jupyter [-h] [--version] [--config-dir] [--data-dir] [--runtime-dir]\n",
      "               [--paths] [--json] [--debug]\n",
      "               [subcommand]\n",
      "\n",
      "Jupyter: Interactive Computing\n",
      "\n",
      "positional arguments:\n",
      "  subcommand     the subcommand to launch\n",
      "\n",
      "optional arguments:\n",
      "  -h, --help     show this help message and exit\n",
      "  --version      show the versions of core jupyter packages and exit\n",
      "  --config-dir   show Jupyter config dir\n",
      "  --data-dir     show Jupyter data dir\n",
      "  --runtime-dir  show Jupyter runtime dir\n",
      "  --paths        show all Jupyter paths. Add --json for machine-readable\n",
      "                 format.\n",
      "  --json         output paths as machine-readable json\n",
      "  --debug        output debug information about paths\n",
      "\n",
      "Available subcommands: bundlerextension console kernel kernelspec migrate\n",
      "nbconvert nbextension notebook qtconsole run serverextension troubleshoot\n",
      "trust\n",
      "\n",
      "Jupyter command `jupyter-labextension` not found.\n"
     ]
    }
   ],
   "source": [
    "!pip install ipywidgets\n",
    "!jupyter nbextension enable --py widgetsnbextension\n",
    "!jupyter labextension install @jupyter-widgets/jupyterlab-manager"
   ]
  },
  {
   "cell_type": "code",
   "execution_count": 499,
   "metadata": {},
   "outputs": [
    {
     "name": "stdout",
     "output_type": "stream",
     "text": [
      "Requirement already satisfied: xgboost in d:\\levi\\projetos\\astro_project\\astro_project_env\\lib\\site-packages (1.4.2)\n",
      "Requirement already satisfied: scipy in d:\\levi\\projetos\\astro_project\\astro_project_env\\lib\\site-packages (from xgboost) (1.7.1)\n",
      "Requirement already satisfied: numpy in d:\\levi\\projetos\\astro_project\\astro_project_env\\lib\\site-packages (from xgboost) (1.19.5)\n"
     ]
    },
    {
     "name": "stderr",
     "output_type": "stream",
     "text": [
      "WARNING: You are using pip version 20.2.3; however, version 21.2.4 is available.\n",
      "You should consider upgrading via the 'd:\\levi\\projetos\\astro_project\\astro_project_env\\scripts\\python.exe -m pip install --upgrade pip' command.\n"
     ]
    }
   ],
   "source": [
    "!pip install xgboost"
   ]
  },
  {
   "cell_type": "markdown",
   "metadata": {},
   "source": [
    "**It is necessary to change the working directory so the project structure works properly:**"
   ]
  },
  {
   "cell_type": "code",
   "execution_count": 500,
   "metadata": {},
   "outputs": [],
   "source": [
    "import sys\n",
    "sys.path.append(\"../../\")"
   ]
  },
  {
   "cell_type": "code",
   "metadata": {
    "pycharm": {
     "name": "#%%\n"
    }
   },
   "source": [
    "import pandas as pd\n"
   ],
   "execution_count": 501,
   "outputs": []
  },
  {
   "cell_type": "code",
   "source": [
    "data_path = '../../../data/raw/train.csv'\n",
    "df = pd.read_csv(data_path)\n",
    "print(df.columns)\n",
    "df.drop(columns=[\"row_id\"])"
   ],
   "metadata": {
    "collapsed": false,
    "pycharm": {
     "name": "#%%\n"
    }
   },
   "execution_count": 502,
   "outputs": [
    {
     "name": "stdout",
     "output_type": "stream",
     "text": [
      "Index(['row_id', 'MDPL2__SAGE__dbId', 'MDPL2__SAGE__snapnum',\n",
      "       'MDPL2__SAGE__redshift', 'MDPL2__SAGE__rockstarId',\n",
      "       'MDPL2__SAGE__depthFirstId', 'MDPL2__SAGE__forestId',\n",
      "       'MDPL2__SAGE__GalaxyID', 'MDPL2__SAGE__HostHaloID',\n",
      "       'MDPL2__SAGE__MainHaloID', 'MDPL2__SAGE__GalaxyType',\n",
      "       'MDPL2__SAGE__HaloMass', 'MDPL2__SAGE__Vmax', 'MDPL2__SAGE__spin',\n",
      "       'MDPL2__SAGE__x', 'MDPL2__SAGE__y', 'MDPL2__SAGE__z', 'MDPL2__SAGE__vx',\n",
      "       'MDPL2__SAGE__vy', 'MDPL2__SAGE__vz', 'MDPL2__SAGE__MstarSpheroid',\n",
      "       'MDPL2__SAGE__MstarDisk', 'MDPL2__SAGE__McoldDisk', 'MDPL2__SAGE__Mhot',\n",
      "       'MDPL2__SAGE__Mbh', 'MDPL2__SAGE__SFRspheroid', 'MDPL2__SAGE__SFRdisk',\n",
      "       'MDPL2__SAGE__SFR', 'MDPL2__SAGE__MZgasDisk', 'MDPL2__SAGE__MZhotHalo',\n",
      "       'MDPL2__SAGE__MZstarSpheroid', 'MDPL2__SAGE__MZstarDisk',\n",
      "       'MDPL2__SAGE__MeanAgeStars', 'MDPL2__SAGE__NInFile',\n",
      "       'MDPL2__SAGE__fileNum', 'MDPL2__SAGE__ix', 'MDPL2__SAGE__iy',\n",
      "       'MDPL2__SAGE__iz', 'MDPL2__SAGE__phkey'],\n",
      "      dtype='object')\n"
     ]
    },
    {
     "data": {
      "text/plain": "        MDPL2__SAGE__dbId  MDPL2__SAGE__snapnum  MDPL2__SAGE__redshift  \\\n0            160430000077                    16                 10.186   \n1            160330000135                    16                 10.186   \n2            160430000078                    16                 10.186   \n3            160440000009                    16                 10.186   \n4            160340000128                    16                 10.186   \n...                   ...                   ...                    ...   \n399995       222070000976                    22                  8.794   \n399996       222070000977                    22                  8.794   \n399997       222070000975                    22                  8.794   \n399998       222070000911                    22                  8.794   \n399999       222070000912                    22                  8.794   \n\n        MDPL2__SAGE__rockstarId  MDPL2__SAGE__depthFirstId  \\\n0                       1295178                 2378586687   \n1                       1295179                 2720745397   \n2                       1295180                 2713021881   \n3                       1295181                  480212537   \n4                       1295182                  318811098   \n...                         ...                        ...   \n399995                  8832751                 2410400243   \n399996                  8832752                 3331568537   \n399997                  8832753                  659426933   \n399998                  8832754                  488940170   \n399999                  8832755                  488940376   \n\n        MDPL2__SAGE__forestId  MDPL2__SAGE__GalaxyID  MDPL2__SAGE__HostHaloID  \\\n0                 12572409168      43011642000000001                  1295178   \n1                 12572409528      33057885000000000                  1295179   \n2                 12572410126      43011935000000000                  1295180   \n3                 12572438261      44000000000004338                  1295181   \n4                 12572438530      34058737000000189                  1295182   \n...                       ...                    ...                      ...   \n399995            12597609998     207069150000000166                  8832751   \n399996            12597609998     207069150000000171                  8832752   \n399997            12597609998     207069150000000025                  8832753   \n399998            12597579874     207052212000000000                  8832754   \n399999            12597579874     207052212000000006                  8832755   \n\n        MDPL2__SAGE__MainHaloID  MDPL2__SAGE__GalaxyType  ...  \\\n0                       1295178                        0  ...   \n1                       1295179                        0  ...   \n2                       1295180                        0  ...   \n3                       1295181                        0  ...   \n4                       1295182                        0  ...   \n...                         ...                      ...  ...   \n399995                  8832751                        0  ...   \n399996                  8832752                        0  ...   \n399997                  8832753                        0  ...   \n399998                  8832754                        0  ...   \n399999                  8832755                        0  ...   \n\n        MDPL2__SAGE__MZhotHalo  MDPL2__SAGE__MZstarSpheroid  \\\n0                 5.118030e+05                          0.0   \n1                 0.000000e+00                          0.0   \n2                 9.195520e+05                          0.0   \n3                 2.344800e+05                          0.0   \n4                 1.500440e+01                          0.0   \n...                        ...                          ...   \n399995            6.976480e+04                          0.0   \n399996            2.646280e+04                          0.0   \n399997            7.085630e+06                          0.0   \n399998            7.533100e+06                          0.0   \n399999            1.050980e+06                          0.0   \n\n        MDPL2__SAGE__MZstarDisk  MDPL2__SAGE__MeanAgeStars  \\\n0                  1.067390e+05                    13.3663   \n1                  0.000000e+00                     0.0000   \n2                  2.065790e+05                    13.3671   \n3                  5.305960e+04                    13.3694   \n4                  2.853430e+00                    13.3595   \n...                         ...                        ...   \n399995             1.502190e+04                    13.2670   \n399996             5.234040e+03                    13.2624   \n399997             1.993870e+06                    13.2958   \n399998             2.207200e+06                    13.2940   \n399999             2.559150e+05                    13.2823   \n\n        MDPL2__SAGE__NInFile  MDPL2__SAGE__fileNum  MDPL2__SAGE__ix  \\\n0                         77                 16043               13   \n1                        135                 16033               51   \n2                         78                 16043               38   \n3                          9                 16044               63   \n4                        128                 16034               29   \n...                      ...                   ...              ...   \n399995                   976                 22207              273   \n399996                   977                 22207              272   \n399997                   975                 22207              271   \n399998                   911                 22207              235   \n399999                   912                 22207              233   \n\n        MDPL2__SAGE__iy  MDPL2__SAGE__iz  MDPL2__SAGE__phkey  \n0                   428              404            37853283  \n1                   394              353            40710832  \n2                   411              344            40730961  \n3                   422              474            38142107  \n4                   405              433            37992343  \n...                 ...              ...                 ...  \n399995               87              815           952535985  \n399996               86              822           952562690  \n399997               84              822           952559217  \n399998               82              819          1060702908  \n399999               82              819          1060702850  \n\n[400000 rows x 38 columns]",
      "text/html": "<div>\n<style scoped>\n    .dataframe tbody tr th:only-of-type {\n        vertical-align: middle;\n    }\n\n    .dataframe tbody tr th {\n        vertical-align: top;\n    }\n\n    .dataframe thead th {\n        text-align: right;\n    }\n</style>\n<table border=\"1\" class=\"dataframe\">\n  <thead>\n    <tr style=\"text-align: right;\">\n      <th></th>\n      <th>MDPL2__SAGE__dbId</th>\n      <th>MDPL2__SAGE__snapnum</th>\n      <th>MDPL2__SAGE__redshift</th>\n      <th>MDPL2__SAGE__rockstarId</th>\n      <th>MDPL2__SAGE__depthFirstId</th>\n      <th>MDPL2__SAGE__forestId</th>\n      <th>MDPL2__SAGE__GalaxyID</th>\n      <th>MDPL2__SAGE__HostHaloID</th>\n      <th>MDPL2__SAGE__MainHaloID</th>\n      <th>MDPL2__SAGE__GalaxyType</th>\n      <th>...</th>\n      <th>MDPL2__SAGE__MZhotHalo</th>\n      <th>MDPL2__SAGE__MZstarSpheroid</th>\n      <th>MDPL2__SAGE__MZstarDisk</th>\n      <th>MDPL2__SAGE__MeanAgeStars</th>\n      <th>MDPL2__SAGE__NInFile</th>\n      <th>MDPL2__SAGE__fileNum</th>\n      <th>MDPL2__SAGE__ix</th>\n      <th>MDPL2__SAGE__iy</th>\n      <th>MDPL2__SAGE__iz</th>\n      <th>MDPL2__SAGE__phkey</th>\n    </tr>\n  </thead>\n  <tbody>\n    <tr>\n      <th>0</th>\n      <td>160430000077</td>\n      <td>16</td>\n      <td>10.186</td>\n      <td>1295178</td>\n      <td>2378586687</td>\n      <td>12572409168</td>\n      <td>43011642000000001</td>\n      <td>1295178</td>\n      <td>1295178</td>\n      <td>0</td>\n      <td>...</td>\n      <td>5.118030e+05</td>\n      <td>0.0</td>\n      <td>1.067390e+05</td>\n      <td>13.3663</td>\n      <td>77</td>\n      <td>16043</td>\n      <td>13</td>\n      <td>428</td>\n      <td>404</td>\n      <td>37853283</td>\n    </tr>\n    <tr>\n      <th>1</th>\n      <td>160330000135</td>\n      <td>16</td>\n      <td>10.186</td>\n      <td>1295179</td>\n      <td>2720745397</td>\n      <td>12572409528</td>\n      <td>33057885000000000</td>\n      <td>1295179</td>\n      <td>1295179</td>\n      <td>0</td>\n      <td>...</td>\n      <td>0.000000e+00</td>\n      <td>0.0</td>\n      <td>0.000000e+00</td>\n      <td>0.0000</td>\n      <td>135</td>\n      <td>16033</td>\n      <td>51</td>\n      <td>394</td>\n      <td>353</td>\n      <td>40710832</td>\n    </tr>\n    <tr>\n      <th>2</th>\n      <td>160430000078</td>\n      <td>16</td>\n      <td>10.186</td>\n      <td>1295180</td>\n      <td>2713021881</td>\n      <td>12572410126</td>\n      <td>43011935000000000</td>\n      <td>1295180</td>\n      <td>1295180</td>\n      <td>0</td>\n      <td>...</td>\n      <td>9.195520e+05</td>\n      <td>0.0</td>\n      <td>2.065790e+05</td>\n      <td>13.3671</td>\n      <td>78</td>\n      <td>16043</td>\n      <td>38</td>\n      <td>411</td>\n      <td>344</td>\n      <td>40730961</td>\n    </tr>\n    <tr>\n      <th>3</th>\n      <td>160440000009</td>\n      <td>16</td>\n      <td>10.186</td>\n      <td>1295181</td>\n      <td>480212537</td>\n      <td>12572438261</td>\n      <td>44000000000004338</td>\n      <td>1295181</td>\n      <td>1295181</td>\n      <td>0</td>\n      <td>...</td>\n      <td>2.344800e+05</td>\n      <td>0.0</td>\n      <td>5.305960e+04</td>\n      <td>13.3694</td>\n      <td>9</td>\n      <td>16044</td>\n      <td>63</td>\n      <td>422</td>\n      <td>474</td>\n      <td>38142107</td>\n    </tr>\n    <tr>\n      <th>4</th>\n      <td>160340000128</td>\n      <td>16</td>\n      <td>10.186</td>\n      <td>1295182</td>\n      <td>318811098</td>\n      <td>12572438530</td>\n      <td>34058737000000189</td>\n      <td>1295182</td>\n      <td>1295182</td>\n      <td>0</td>\n      <td>...</td>\n      <td>1.500440e+01</td>\n      <td>0.0</td>\n      <td>2.853430e+00</td>\n      <td>13.3595</td>\n      <td>128</td>\n      <td>16034</td>\n      <td>29</td>\n      <td>405</td>\n      <td>433</td>\n      <td>37992343</td>\n    </tr>\n    <tr>\n      <th>...</th>\n      <td>...</td>\n      <td>...</td>\n      <td>...</td>\n      <td>...</td>\n      <td>...</td>\n      <td>...</td>\n      <td>...</td>\n      <td>...</td>\n      <td>...</td>\n      <td>...</td>\n      <td>...</td>\n      <td>...</td>\n      <td>...</td>\n      <td>...</td>\n      <td>...</td>\n      <td>...</td>\n      <td>...</td>\n      <td>...</td>\n      <td>...</td>\n      <td>...</td>\n      <td>...</td>\n    </tr>\n    <tr>\n      <th>399995</th>\n      <td>222070000976</td>\n      <td>22</td>\n      <td>8.794</td>\n      <td>8832751</td>\n      <td>2410400243</td>\n      <td>12597609998</td>\n      <td>207069150000000166</td>\n      <td>8832751</td>\n      <td>8832751</td>\n      <td>0</td>\n      <td>...</td>\n      <td>6.976480e+04</td>\n      <td>0.0</td>\n      <td>1.502190e+04</td>\n      <td>13.2670</td>\n      <td>976</td>\n      <td>22207</td>\n      <td>273</td>\n      <td>87</td>\n      <td>815</td>\n      <td>952535985</td>\n    </tr>\n    <tr>\n      <th>399996</th>\n      <td>222070000977</td>\n      <td>22</td>\n      <td>8.794</td>\n      <td>8832752</td>\n      <td>3331568537</td>\n      <td>12597609998</td>\n      <td>207069150000000171</td>\n      <td>8832752</td>\n      <td>8832752</td>\n      <td>0</td>\n      <td>...</td>\n      <td>2.646280e+04</td>\n      <td>0.0</td>\n      <td>5.234040e+03</td>\n      <td>13.2624</td>\n      <td>977</td>\n      <td>22207</td>\n      <td>272</td>\n      <td>86</td>\n      <td>822</td>\n      <td>952562690</td>\n    </tr>\n    <tr>\n      <th>399997</th>\n      <td>222070000975</td>\n      <td>22</td>\n      <td>8.794</td>\n      <td>8832753</td>\n      <td>659426933</td>\n      <td>12597609998</td>\n      <td>207069150000000025</td>\n      <td>8832753</td>\n      <td>8832753</td>\n      <td>0</td>\n      <td>...</td>\n      <td>7.085630e+06</td>\n      <td>0.0</td>\n      <td>1.993870e+06</td>\n      <td>13.2958</td>\n      <td>975</td>\n      <td>22207</td>\n      <td>271</td>\n      <td>84</td>\n      <td>822</td>\n      <td>952559217</td>\n    </tr>\n    <tr>\n      <th>399998</th>\n      <td>222070000911</td>\n      <td>22</td>\n      <td>8.794</td>\n      <td>8832754</td>\n      <td>488940170</td>\n      <td>12597579874</td>\n      <td>207052212000000000</td>\n      <td>8832754</td>\n      <td>8832754</td>\n      <td>0</td>\n      <td>...</td>\n      <td>7.533100e+06</td>\n      <td>0.0</td>\n      <td>2.207200e+06</td>\n      <td>13.2940</td>\n      <td>911</td>\n      <td>22207</td>\n      <td>235</td>\n      <td>82</td>\n      <td>819</td>\n      <td>1060702908</td>\n    </tr>\n    <tr>\n      <th>399999</th>\n      <td>222070000912</td>\n      <td>22</td>\n      <td>8.794</td>\n      <td>8832755</td>\n      <td>488940376</td>\n      <td>12597579874</td>\n      <td>207052212000000006</td>\n      <td>8832755</td>\n      <td>8832755</td>\n      <td>0</td>\n      <td>...</td>\n      <td>1.050980e+06</td>\n      <td>0.0</td>\n      <td>2.559150e+05</td>\n      <td>13.2823</td>\n      <td>912</td>\n      <td>22207</td>\n      <td>233</td>\n      <td>82</td>\n      <td>819</td>\n      <td>1060702850</td>\n    </tr>\n  </tbody>\n</table>\n<p>400000 rows × 38 columns</p>\n</div>"
     },
     "execution_count": 502,
     "metadata": {},
     "output_type": "execute_result"
    }
   ]
  },
  {
   "cell_type": "code",
   "execution_count": 503,
   "outputs": [
    {
     "name": "stdout",
     "output_type": "stream",
     "text": [
      "Index(['row_id', 'MDPL2__SAGE__dbId', 'MDPL2__SAGE__snapnum',\n",
      "       'MDPL2__SAGE__redshift', 'MDPL2__SAGE__rockstarId',\n",
      "       'MDPL2__SAGE__depthFirstId', 'MDPL2__SAGE__forestId',\n",
      "       'MDPL2__SAGE__GalaxyID', 'MDPL2__SAGE__HostHaloID',\n",
      "       'MDPL2__SAGE__MainHaloID', 'MDPL2__SAGE__GalaxyType',\n",
      "       'MDPL2__SAGE__HaloMass', 'MDPL2__SAGE__Vmax', 'MDPL2__SAGE__spin',\n",
      "       'MDPL2__SAGE__x', 'MDPL2__SAGE__y', 'MDPL2__SAGE__z', 'MDPL2__SAGE__vx',\n",
      "       'MDPL2__SAGE__vy', 'MDPL2__SAGE__vz', 'MDPL2__SAGE__MstarSpheroid',\n",
      "       'MDPL2__SAGE__MstarDisk', 'MDPL2__SAGE__McoldDisk', 'MDPL2__SAGE__Mhot',\n",
      "       'MDPL2__SAGE__Mbh', 'MDPL2__SAGE__SFRspheroid', 'MDPL2__SAGE__SFRdisk',\n",
      "       'MDPL2__SAGE__SFR', 'MDPL2__SAGE__MZgasDisk', 'MDPL2__SAGE__MZhotHalo',\n",
      "       'MDPL2__SAGE__MZstarSpheroid', 'MDPL2__SAGE__MZstarDisk',\n",
      "       'MDPL2__SAGE__MeanAgeStars', 'MDPL2__SAGE__NInFile',\n",
      "       'MDPL2__SAGE__fileNum', 'MDPL2__SAGE__ix', 'MDPL2__SAGE__iy',\n",
      "       'MDPL2__SAGE__iz', 'MDPL2__SAGE__phkey'],\n",
      "      dtype='object')\n"
     ]
    }
   ],
   "source": [
    "print(df.columns)\n",
    "from sklearn.model_selection import train_test_split\n"
   ],
   "metadata": {
    "collapsed": false,
    "pycharm": {
     "name": "#%%\n"
    }
   }
  },
  {
   "cell_type": "code",
   "execution_count": 504,
   "outputs": [],
   "source": [
    "y = df.MDPL2__SAGE__redshift\n",
    "\n",
    "df_features = [\n",
    "       'MDPL2__SAGE__x', 'MDPL2__SAGE__y', 'MDPL2__SAGE__z', 'MDPL2__SAGE__vx',\n",
    "       'MDPL2__SAGE__vy', 'MDPL2__SAGE__vz','MDPL2__SAGE__ix', 'MDPL2__SAGE__iy',\n",
    "       'MDPL2__SAGE__iz']\n",
    "\n",
    "X = df[df_features]\n",
    "\n",
    "train_X, val_X, train_y, val_y = train_test_split(X, y, random_state=0)\n",
    "\n",
    "\n",
    "\n",
    "# split data into training and validation data, for both features and target\n",
    "# The split is based on a random number generator. Supplying a numeric value to\n",
    "# the random_state argument guarantees we get the same split every time we\n",
    "# run this script.\n",
    "train_X, val_X, train_y, val_y = train_test_split(X, y,random_state = 0)"
   ],
   "metadata": {
    "collapsed": false,
    "pycharm": {
     "name": "#%%\n"
    }
   }
  },
  {
   "cell_type": "markdown",
   "source": [
    "Modelo LinearRegression"
   ],
   "metadata": {
    "collapsed": false
   }
  },
  {
   "cell_type": "code",
   "execution_count": 505,
   "outputs": [
    {
     "data": {
      "text/plain": "LinearRegression()"
     },
     "execution_count": 505,
     "metadata": {},
     "output_type": "execute_result"
    }
   ],
   "source": [
    "from sklearn.metrics import mean_absolute_error\n",
    "from sklearn.linear_model import LinearRegression\n",
    "\n",
    "astro_model = LinearRegression()\n",
    "astro_model.fit(X, y, sample_weight=None)"
   ],
   "metadata": {
    "collapsed": false,
    "pycharm": {
     "name": "#%%\n"
    }
   }
  },
  {
   "cell_type": "code",
   "execution_count": 506,
   "outputs": [
    {
     "name": "stdout",
     "output_type": "stream",
     "text": [
      "predições: [9.41948765 9.36011926 9.4186207  ... 9.39471726 9.34962685 9.34584783] \n",
      "MAE = 0.3713128944459852\n",
      "100000\n",
      "predições: [9.41948765 9.36011926 9.4186207  ... 9.39471726 9.34962685 9.34584783] \n",
      "MAE = 0.3713128944459852\n",
      "100000\n"
     ]
    }
   ],
   "source": [
    "astro_preds = astro_model.predict(val_X)\n",
    "print(f\"predições: {astro_preds} \\nMAE = {mean_absolute_error(val_y, astro_preds)}\")\n",
    "rsquared = astro_model.score(X, y)\n",
    "print(astro_preds.size)"
   ],
   "metadata": {
    "collapsed": false,
    "pycharm": {
     "name": "#%%\n"
    }
   }
  },
  {
   "cell_type": "code",
   "execution_count": 507,
   "outputs": [
    {
     "name": "stdout",
     "output_type": "stream",
     "text": [
      "r^2 = 0.004966329464306196\n",
      "r^2 = 0.004966329464306196\n"
     ]
    }
   ],
   "source": [
    "print(f\"r^2 = {rsquared}\")"
   ],
   "metadata": {
    "collapsed": false,
    "pycharm": {
     "name": "#%%\n"
    }
   }
  },
  {
   "cell_type": "code",
   "execution_count": 508,
   "outputs": [
    {
     "name": "stdout",
     "output_type": "stream",
     "text": [
      "<bound method NDFrame.head of         MDPL2__SAGE__x  MDPL2__SAGE__y  MDPL2__SAGE__z  MDPL2__SAGE__vx  \\\n",
      "242160        709.6550         93.4885        797.5880          -159.88   \n",
      "3413           52.7785        566.2480        744.1650            50.54   \n",
      "393024        241.9240         52.4310        617.3500            70.85   \n",
      "247987        689.3910        210.9290        356.4770           101.11   \n",
      "52436         918.5770        485.8200        942.7660           132.90   \n",
      "...                ...             ...             ...              ...   \n",
      "392582        261.2750         54.9840        601.8320            71.30   \n",
      "247940        670.4470        214.0430        361.3380           271.28   \n",
      "189401         12.9158        189.0010        739.4260            -3.99   \n",
      "234117        610.2190        971.6080        464.5880           115.61   \n",
      "58470         912.0750        759.3670         61.7036           -81.40   \n",
      "\n",
      "        MDPL2__SAGE__vy  MDPL2__SAGE__vz  MDPL2__SAGE__ix  MDPL2__SAGE__iy  \\\n",
      "242160          -112.89            79.45              726               95   \n",
      "3413             161.63          -103.61               54              579   \n",
      "393024           -16.60          -150.38              247               53   \n",
      "247987            67.07            36.27              705              215   \n",
      "52436            188.42            70.94              940              497   \n",
      "...                 ...              ...              ...              ...   \n",
      "392582           -62.17            17.77              267               56   \n",
      "247940            19.38           150.92              686              219   \n",
      "189401           -46.33           161.73               13              193   \n",
      "234117          -209.79            74.35              624              994   \n",
      "58470             12.95            29.51              933              777   \n",
      "\n",
      "        MDPL2__SAGE__iz  redshift_pred  \n",
      "242160              816       9.419488  \n",
      "3413                762       9.360119  \n",
      "393024              632       9.418621  \n",
      "247987              365       9.404423  \n",
      "52436               965       9.397049  \n",
      "...                 ...            ...  \n",
      "392582              616       9.417183  \n",
      "247940              370       9.413486  \n",
      "189401              757       9.394717  \n",
      "234117              475       9.349627  \n",
      "58470                63       9.345848  \n",
      "\n",
      "[100000 rows x 10 columns]>\n"
     ]
    },
    {
     "name": "stderr",
     "output_type": "stream",
     "text": [
      "C:\\Users\\mlevi\\AppData\\Local\\Temp/ipykernel_28128/3733185065.py:2: SettingWithCopyWarning: \n",
      "A value is trying to be set on a copy of a slice from a DataFrame.\n",
      "Try using .loc[row_indexer,col_indexer] = value instead\n",
      "\n",
      "See the caveats in the documentation: https://pandas.pydata.org/pandas-docs/stable/user_guide/indexing.html#returning-a-view-versus-a-copy\n",
      "  val_X['redshift_pred'] = astro_preds\n"
     ]
    },
    {
     "name": "stdout",
     "output_type": "stream",
     "text": [
      "<bound method NDFrame.head of         MDPL2__SAGE__x  MDPL2__SAGE__y  MDPL2__SAGE__z  MDPL2__SAGE__vx  \\\n",
      "242160        709.6550         93.4885        797.5880          -159.88   \n",
      "3413           52.7785        566.2480        744.1650            50.54   \n",
      "393024        241.9240         52.4310        617.3500            70.85   \n",
      "247987        689.3910        210.9290        356.4770           101.11   \n",
      "52436         918.5770        485.8200        942.7660           132.90   \n",
      "...                ...             ...             ...              ...   \n",
      "392582        261.2750         54.9840        601.8320            71.30   \n",
      "247940        670.4470        214.0430        361.3380           271.28   \n",
      "189401         12.9158        189.0010        739.4260            -3.99   \n",
      "234117        610.2190        971.6080        464.5880           115.61   \n",
      "58470         912.0750        759.3670         61.7036           -81.40   \n",
      "\n",
      "        MDPL2__SAGE__vy  MDPL2__SAGE__vz  MDPL2__SAGE__ix  MDPL2__SAGE__iy  \\\n",
      "242160          -112.89            79.45              726               95   \n",
      "3413             161.63          -103.61               54              579   \n",
      "393024           -16.60          -150.38              247               53   \n",
      "247987            67.07            36.27              705              215   \n",
      "52436            188.42            70.94              940              497   \n",
      "...                 ...              ...              ...              ...   \n",
      "392582           -62.17            17.77              267               56   \n",
      "247940            19.38           150.92              686              219   \n",
      "189401           -46.33           161.73               13              193   \n",
      "234117          -209.79            74.35              624              994   \n",
      "58470             12.95            29.51              933              777   \n",
      "\n",
      "        MDPL2__SAGE__iz  redshift_pred  \n",
      "242160              816       9.419488  \n",
      "3413                762       9.360119  \n",
      "393024              632       9.418621  \n",
      "247987              365       9.404423  \n",
      "52436               965       9.397049  \n",
      "...                 ...            ...  \n",
      "392582              616       9.417183  \n",
      "247940              370       9.413486  \n",
      "189401              757       9.394717  \n",
      "234117              475       9.349627  \n",
      "58470                63       9.345848  \n",
      "\n",
      "[100000 rows x 10 columns]>\n"
     ]
    },
    {
     "name": "stderr",
     "output_type": "stream",
     "text": [
      "C:\\Users\\mlevi\\AppData\\Local\\Temp/ipykernel_28128/3733185065.py:2: SettingWithCopyWarning: \n",
      "A value is trying to be set on a copy of a slice from a DataFrame.\n",
      "Try using .loc[row_indexer,col_indexer] = value instead\n",
      "\n",
      "See the caveats in the documentation: https://pandas.pydata.org/pandas-docs/stable/user_guide/indexing.html#returning-a-view-versus-a-copy\n",
      "  val_X['redshift_pred'] = astro_preds\n"
     ]
    }
   ],
   "source": [
    "pred_features = df_features.append(\"redshift_pred\")\n",
    "val_X['redshift_pred'] = astro_preds\n",
    "print(val_X.head)\n",
    "df_preds = pd.DataFrame(data=val_X, columns=pred_features)\n",
    "df_preds.to_csv(\"teste3.csv\")\n",
    "df_red_shif= pd.DataFrame(data=astro_preds)\n",
    "df_red_shif.to_csv(\"rs.csv\")"
   ],
   "metadata": {
    "collapsed": false,
    "pycharm": {
     "name": "#%%\n"
    }
   }
  },
  {
   "cell_type": "code",
   "execution_count": 509,
   "outputs": [
    {
     "name": "stdout",
     "output_type": "stream",
     "text": [
      "100000\n",
      "100000\n"
     ]
    }
   ],
   "source": [
    "predrs = 0\n",
    "contador = 0\n",
    "for pred in astro_preds:\n",
    "       if pred != predrs:\n",
    "              contador += 1\n",
    "              predrs = pred\n",
    "\n",
    "\n",
    "print(contador)"
   ],
   "metadata": {
    "collapsed": false,
    "pycharm": {
     "name": "#%%\n"
    }
   }
  },
  {
   "cell_type": "markdown",
   "source": [
    "Modelo MLPRegressor"
   ],
   "metadata": {
    "collapsed": false,
    "pycharm": {
     "name": "#%% md\n"
    }
   }
  },
  {
   "cell_type": "code",
   "execution_count": 510,
   "outputs": [],
   "source": [
    "from sklearn.neural_network import MLPRegressor\n",
    "from math import fabs\n",
    "optimumrs = 40\n",
    "absmin = 10.0"
   ],
   "metadata": {
    "collapsed": false,
    "pycharm": {
     "name": "#%%\n"
    }
   }
  },
  {
   "cell_type": "markdown",
   "source": [
    "para calcular o melhor rs\n",
    "for i in(5,10,15,20,25,30):\n",
    "       data_sets = train_test_split(X, y,\n",
    "                             train_size=0.9,\n",
    "                             test_size=0.1,\n",
    "                             random_state=i)\n",
    "\n",
    "       train_data, test_data, train_targets, test_targets = data_sets\n",
    "       clf = MLPRegressor(solver='lbfgs',max_iter=350000, alpha=1e-5, hidden_layer_sizes=(15,5), random_state=i)\n",
    "\n",
    "       clf.fit(train_data, train_targets)\n",
    "       res = clf.predict(train_data)\n",
    "       df_redshift_MLPR = pd.DataFrame(res)\n",
    "       rsquaredmlpr = clf.score(X,y)\n",
    "       print(f\"MLPR R^2= {rsquaredmlpr} for rs = {i} \\n\")\n",
    "       if fabs(rsquaredmlpr) < absmin :\n",
    "              print(f\"MLPR R^2= {rsquaredmlpr} for rs = {i} \\n\")\n",
    "              absmin = rsquaredmlpr\n",
    "              optimumrs = i\n",
    "\n",
    "print(f\"The optimum result was for RS={optimumrs}\")\n",
    "       #print(df_redshift_MLPR.head)\n",
    "       #print(res)\n"
   ],
   "metadata": {
    "collapsed": false,
    "pycharm": {
     "name": "#%% md\n"
    }
   }
  },
  {
   "cell_type": "code",
   "execution_count": 511,
   "outputs": [
    {
     "name": "stdout",
     "output_type": "stream",
     "text": [
      "<bound method NDFrame.head of                0\n",
      "0       9.370886\n",
      "1       9.370886\n",
      "2       9.370886\n",
      "3       9.370886\n",
      "4       9.370886\n",
      "...          ...\n",
      "359995  9.370886\n",
      "359996  9.370886\n",
      "359997  9.370886\n",
      "359998  9.370886\n",
      "359999  9.370886\n",
      "\n",
      "[360000 rows x 1 columns]>\n",
      "<bound method NDFrame.head of                0\n",
      "0       9.370886\n",
      "1       9.370886\n",
      "2       9.370886\n",
      "3       9.370886\n",
      "4       9.370886\n",
      "...          ...\n",
      "359995  9.370886\n",
      "359996  9.370886\n",
      "359997  9.370886\n",
      "359998  9.370886\n",
      "359999  9.370886\n",
      "\n",
      "[360000 rows x 1 columns]>\n"
     ]
    }
   ],
   "source": [
    "data_sets = train_test_split(X, y,\n",
    "                             train_size=0.9,\n",
    "                             test_size=0.1,\n",
    "                             random_state=optimumrs)\n",
    "\n",
    "train_data, test_data, train_targets, test_targets = data_sets\n",
    "clf = MLPRegressor(solver='lbfgs',max_iter=350000, alpha=1e-5, hidden_layer_sizes=(15,5), random_state=optimumrs)\n",
    "\n",
    "clf.fit(train_data, train_targets)\n",
    "res = clf.predict(train_data)\n",
    "df_redshift_MLPR = pd.DataFrame(data=res)\n",
    "print(df_redshift_MLPR.head)\n",
    "rsquaredmlpr = clf.score(X,y)"
   ],
   "metadata": {
    "collapsed": false,
    "pycharm": {
     "name": "#%%\n"
    }
   }
  },
  {
   "cell_type": "code",
   "execution_count": 512,
   "outputs": [
    {
     "name": "stdout",
     "output_type": "stream",
     "text": [
      "[[9.37088599]\n",
      " [9.37088599]\n",
      " [9.37088599]\n",
      " ...\n",
      " [9.37088599]\n",
      " [9.37088599]\n",
      " [9.37088599]]\n",
      "<bound method NDFrame.head of             zred\n",
      "0       9.370886\n",
      "1       9.370886\n",
      "2       9.370886\n",
      "3       9.370886\n",
      "4       9.370886\n",
      "...          ...\n",
      "359995  9.370886\n",
      "359996  9.370886\n",
      "359997  9.370886\n",
      "359998  9.370886\n",
      "359999  9.370886\n",
      "\n",
      "[360000 rows x 1 columns]>\n",
      "[[9.37088599]\n",
      " [9.37088599]\n",
      " [9.37088599]\n",
      " ...\n",
      " [9.37088599]\n",
      " [9.37088599]\n",
      " [9.37088599]]\n",
      "<bound method NDFrame.head of             zred\n",
      "0       9.370886\n",
      "1       9.370886\n",
      "2       9.370886\n",
      "3       9.370886\n",
      "4       9.370886\n",
      "...          ...\n",
      "359995  9.370886\n",
      "359996  9.370886\n",
      "359997  9.370886\n",
      "359998  9.370886\n",
      "359999  9.370886\n",
      "\n",
      "[360000 rows x 1 columns]>\n"
     ]
    }
   ],
   "source": [
    "print(df_redshift_MLPR.values)\n",
    "\n",
    "df_zred = pd.DataFrame(columns=[\"zred\"], data=df_redshift_MLPR.values)\n",
    "\n",
    "print(df_zred.head)"
   ],
   "metadata": {
    "collapsed": false,
    "pycharm": {
     "name": "#%%\n"
    }
   }
  },
  {
   "cell_type": "markdown",
   "source": [
    "aexp = 1/(1+zred) para calcular o fator de expansão do Universo"
   ],
   "metadata": {
    "collapsed": false
   }
  },
  {
   "cell_type": "code",
   "execution_count": 513,
   "outputs": [
    {
     "name": "stdout",
     "output_type": "stream",
     "text": [
      "360000\n",
      "0.09642378967761062\n",
      "360000\n",
      "0.09642378967761062\n"
     ]
    }
   ],
   "source": [
    "aexp_array = []\n",
    "for zred in res:\n",
    "    aexp = 1/(1+zred)\n",
    "    aexp_array.append(aexp)\n",
    "    #print(f\"Coeficiente de Expansão: {aexp}\")\n",
    "\n",
    "\n",
    "print(len(aexp_array))\n",
    "aexp_med = sum(aexp_array)/len(aexp_array)\n",
    "\n",
    "print(aexp_med)\n",
    "\n",
    "\n"
   ],
   "metadata": {
    "collapsed": false,
    "pycharm": {
     "name": "#%%\n"
    }
   }
  },
  {
   "cell_type": "code",
   "execution_count": 514,
   "outputs": [
    {
     "name": "stdout",
     "output_type": "stream",
     "text": [
      "[9.37088599 9.37088599 9.37088599 ... 9.37088599 9.37088599 9.37088599]\n",
      "[9.37088599 9.37088599 9.37088599 ... 9.37088599 9.37088599 9.37088599]\n"
     ]
    }
   ],
   "source": [
    "test = clf.predict(test_data)\n",
    "print(test)\n"
   ],
   "metadata": {
    "collapsed": false,
    "pycharm": {
     "name": "#%%\n"
    }
   }
  },
  {
   "cell_type": "code",
   "execution_count": 515,
   "outputs": [
    {
     "name": "stdout",
     "output_type": "stream",
     "text": [
      "40000\n",
      "0.09642380575519739\n",
      "40000\n",
      "0.09642380575519739\n"
     ]
    }
   ],
   "source": [
    "aexp_test_array = []\n",
    "for zred in test:\n",
    "    aexp_test = 1/(1+zred)\n",
    "    aexp_test_array.append(aexp_test)\n",
    "    #print(f\"Coeficiente de Expansão: {aexp}\")\n",
    "\n",
    "\n",
    "print(len(aexp_test_array))\n",
    "aexp_test_med = sum(aexp_test_array)/len(aexp_test_array)\n",
    "\n",
    "print(aexp_test_med)"
   ],
   "metadata": {
    "collapsed": false,
    "pycharm": {
     "name": "#%%\n"
    }
   }
  },
  {
   "cell_type": "code",
   "execution_count": 516,
   "outputs": [
    {
     "name": "stdout",
     "output_type": "stream",
     "text": [
      "-1.6673877005659716e-07\n",
      "-1.6673877005659716e-07\n"
     ]
    }
   ],
   "source": [
    "erro = (aexp_med - aexp_test_med)/(max(aexp_test_med, aexp_med))\n",
    "\n",
    "print(erro)"
   ],
   "metadata": {
    "collapsed": false,
    "pycharm": {
     "name": "#%%\n"
    }
   }
  },
  {
   "cell_type": "markdown",
   "source": [
    "Para exportar o modelo"
   ],
   "metadata": {
    "collapsed": false,
    "pycharm": {
     "name": "#%% md\n"
    }
   }
  },
  {
   "cell_type": "markdown",
   "source": [
    "from joblib import dump, load\n",
    "\n",
    "dump(clf, '../model/MLPR1.joblib')"
   ],
   "metadata": {
    "collapsed": false,
    "pycharm": {
     "name": "#%% md\n"
    }
   }
  }
 ],
 "metadata": {
  "kernelspec": {
   "display_name": "Python 3",
   "language": "python",
   "name": "python3"
  },
  "language_info": {
   "codemirror_mode": {
    "name": "ipython",
    "version": 3
   },
   "file_extension": ".py",
   "mimetype": "text/x-python",
   "name": "python",
   "nbconvert_exporter": "python",
   "pygments_lexer": "ipython3",
   "version": "3.7.6"
  }
 },
 "nbformat": 4,
 "nbformat_minor": 4
}